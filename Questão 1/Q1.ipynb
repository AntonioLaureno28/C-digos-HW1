{
 "cells": [
  {
   "cell_type": "code",
   "execution_count": 31,
   "id": "e611ad58",
   "metadata": {},
   "outputs": [],
   "source": [
    "import numpy as np\n",
    "import matplotlib.pyplot as py\n",
    "import sympy as sym\n",
    "from sympy.abc import s, t\n",
    "from sympy import exp"
   ]
  },
  {
   "cell_type": "code",
   "execution_count": 32,
   "id": "17a41ade",
   "metadata": {},
   "outputs": [],
   "source": [
    "fx1 = (2*s + 5)/((s**3) + (6*(s**2)) + 21*s + 26)\n",
    "fx2 = (s-10)/((s+2)*(s+5))\n",
    "fx3 = (s+1)/((s**2) + 6*s + 13)\n",
    "fx4 = (1 + 2*exp(-s)) / (s**2 + 3*s + 2)\n"
   ]
  },
  {
   "cell_type": "code",
   "execution_count": 33,
   "id": "050bf1ad",
   "metadata": {},
   "outputs": [],
   "source": [
    "transformada_inversa_laplace_fx1 = sym.inverse_laplace_transform(fx1, s, t)\n",
    "transformada_inversa_laplace_fx2 = sym.inverse_laplace_transform(fx2, s, t)\n",
    "transformada_inversa_laplace_fx3 = sym.inverse_laplace_transform(fx3, s, t)\n",
    "transformada_inversa_laplace_fx4 = sym.inverse_laplace_transform(fx4, s, t)"
   ]
  },
  {
   "cell_type": "code",
   "execution_count": 34,
   "id": "bde72cb2",
   "metadata": {},
   "outputs": [
    {
     "name": "stdout",
     "output_type": "stream",
     "text": [
      " transformada inversa de laplace item a: (2*exp(-2*t)*sin(3*t)/3 - exp(-2*t)*cos(3*t)/9)*Heaviside(t) + exp(-2*t)*Heaviside(t)/9\n",
      " transformada inversa de laplace item b: -4*exp(-2*t)*Heaviside(t) + 5*exp(-5*t)*Heaviside(t)\n",
      " transformada inversa de laplace item c: (-exp(-3*t)*sin(2*t) + exp(-3*t)*cos(2*t))*Heaviside(t)\n",
      " transformada inversa de laplace item d: 2*exp(1 - t)*Heaviside(t - 1) - 2*exp(2 - 2*t)*Heaviside(t - 1) + exp(-t)*Heaviside(t) - exp(-2*t)*Heaviside(t)\n"
     ]
    }
   ],
   "source": [
    "print(f\" transformada inversa de laplace item a: {transformada_inversa_laplace_fx1}\")\n",
    "print(f\" transformada inversa de laplace item b: {transformada_inversa_laplace_fx2}\")\n",
    "print(f\" transformada inversa de laplace item c: {transformada_inversa_laplace_fx3}\")\n",
    "print(f\" transformada inversa de laplace item d: {transformada_inversa_laplace_fx4}\")\n"
   ]
  }
 ],
 "metadata": {
  "kernelspec": {
   "display_name": "base",
   "language": "python",
   "name": "python3"
  },
  "language_info": {
   "codemirror_mode": {
    "name": "ipython",
    "version": 3
   },
   "file_extension": ".py",
   "mimetype": "text/x-python",
   "name": "python",
   "nbconvert_exporter": "python",
   "pygments_lexer": "ipython3",
   "version": "3.9.12"
  }
 },
 "nbformat": 4,
 "nbformat_minor": 5
}
